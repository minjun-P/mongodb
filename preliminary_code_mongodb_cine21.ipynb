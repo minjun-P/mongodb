{
 "cells": [
  {
   "cell_type": "markdown",
   "metadata": {},
   "source": [
    "## 1. 임포트"
   ]
  },
  {
   "cell_type": "code",
   "execution_count": 3,
   "metadata": {},
   "outputs": [],
   "source": [
    "import pymongo\n",
    "import requests\n",
    "from bs4 import BeautifulSoup as BS\n",
    "import re"
   ]
  },
  {
   "cell_type": "markdown",
   "metadata": {},
   "source": [
    "## 2. 기반작업 - post로 html 가져오기 및 각 배우들 데이터 가져오기"
   ]
  },
  {
   "cell_type": "code",
   "execution_count": 39,
   "metadata": {
    "scrolled": true
   },
   "outputs": [
    {
     "name": "stdout",
     "output_type": "stream",
     "text": [
      "{'배우이름': '황정민', '흥행지수': 85080, '출연영화': ['다만 악에서 구하소서', '신세계', '국제시장'], '순위': 1, '직업': '배우', '생년월일': '1970-09-01', '성별': '남', '신장/체중': '180cm, 75kg', '학교': '서울예술대학 연극과 졸업', '특기': '농구, 악기연주', '소속사': '예당엔터테인먼트', '홈페이지': '홈페이지 없음'}\n",
      "{'배우이름': '이정재', '흥행지수': 56738, '출연영화': ['다만 악에서 구하소서', '신과 함께-죄와 벌', '태양은 없다', '시월애', '신과 함께-인과 연', '신세계'], '순위': 2, '직업': '배우', '성별': '남', '홈페이지': ['http://www.artistcompany.co.kr/portfolio-item/lee-jung-jae/'], '소속사': '아티스트컴퍼니'}\n",
      "{'배우이름': '유아인', '흥행지수': 46364, '출연영화': ['#살아있다', '소리도 없이', '버닝', '국가부도의 날', '사도'], '순위': 3, '다른 이름': '엄홍식', '직업': '배우', '생년월일': '1986-10-06', '성별': '남', '홈페이지': ['https://www.instagram.com/hongsick/', 'https://twitter.com/seeksik'], '신장/체중': '178cm, 60kg', '학교': '단국대학교 연극', '취미': '피아노 연주, 인터넷 게임, 영화, 음악감상', '특기': '스노우보드, 수영'}\n",
      "{'배우이름': '강동원', '흥행지수': 31818, '출연영화': ['반도', '1987'], '순위': 4, '직업': '배우', '생년월일': '1981-01-18', '성별': '남', '홈페이지': ['http://www.gangdongwon.com'], '신장/체중': '186cm, 68kg', '학교': '한양대 - 상명대학교대학원 연극영화 (석사과정 재학)', '취미': '음악감상, 웹서핑, 운동, 신발 모으기', '특기': '축구'}\n",
      "{'배우이름': '이정현', '흥행지수': 28953, '출연영화': ['죽지않는 인간들의 밤', '반도', '명량'], '순위': 5, '직업': '배우', '생년월일': '1980-02-07', '성별': '여', '홈페이지': ['https://www.instagram.com/mermaidleejh/', 'https://twitter.com/mermaidjh'], '신장/체중': '158cm, 38kg', '학교': '중앙대학교 연극영화', '취미': '바비 인형 수집, 피아노 연주', '특기': '별관찰, 시나리오 쓰기', '소속사': '에이바 앤 엔터테인먼트'}\n",
      "{'배우이름': '박정민', '흥행지수': 28366, '출연영화': ['다만 악에서 구하소서', '동주', '시동', '파수꾼', '그것만이 내 세상'], '순위': 6, '직업': '배우', '생년월일': '1987-02-25', '성별': '남', '신장/체중': '178cm, 63kg', '학교': '한국예술종합학교 영상원 연극원 연기과', '홈페이지': '홈페이지 없음'}\n",
      "{'배우이름': '성동일', '흥행지수': 25084, '출연영화': ['담보', '수상한 그녀'], '순위': 7, '직업': '배우', '생년월일': '1967-04-27', '성별': '남', '신장/체중': '177cm, 78kg', '학교': '유한대학 기계설계학', '홈페이지': '홈페이지 없음'}\n"
     ]
    }
   ],
   "source": [
    "# 몽고디비 연결\n",
    "conn = pymongo.MongoClient()\n",
    "actor_db = conn.actor_db\n",
    "actor_collection = actor_db.actor_collection\n",
    "final_list = list()\n",
    "\n",
    "#크롤링 작업 - 데이터 수집 \n",
    "url = 'http://www.cine21.com/rank/person/content'\n",
    "page =0\n",
    "\n",
    "\n",
    "while True:\n",
    "    page+=1\n",
    "    form_data = {'section': 'actor','period_start': '2020-06','gender': 'all','page': page}\n",
    "    res = requests.post(url, data = form_data)\n",
    "    soup = BS(res.content, 'lxml')\n",
    "    if page==2:                \n",
    "        #len(soup.select('li.people_li div.name'))==0:\n",
    "        break\n",
    "    else:\n",
    "        actors = soup.select('li.people_li')\n",
    "        for actor in actors:\n",
    "            data_dict = dict()\n",
    "            actor_name = actor.select_one('div.name')\n",
    "            actor_link ='http://www.cine21.com'+actor_name.a['href']\n",
    "            response_actor = requests.get(actor_link)\n",
    "            soup = BS(response_actor.content, 'lxml')\n",
    "            infos = soup.select('div.default_info_area li')\n",
    "            \n",
    "            \n",
    "            data_dict['배우이름'] =re.sub('\\(.+\\)','',actor_name.get_text())\n",
    "            data_dict['흥행지수']=int(actor.select_one('ul.num_info strong').get_text().replace(',',''))\n",
    "            movies = actor.select('ul.mov_list li')\n",
    "            movie_list = list()\n",
    "            for movie in movies:\n",
    "                movie_list.append(movie.get_text().strip())\n",
    "            data_dict['출연영화']=movie_list\n",
    "            data_dict['순위']=int(actor.select_one('span.grade').get_text())\n",
    "            #print('<'+re.sub('\\(.+\\)','',actor.get_text())+'>')\n",
    "            \n",
    "            for info in infos:\n",
    "                detail = re.sub('<span.+n>','',str(info))\n",
    "                detail = re.sub('<.*?>','',detail)\n",
    "                data_dict[info.span.get_text()]=detail\n",
    "                \n",
    "            try:\n",
    "                homepages = data_dict['홈페이지']\n",
    "                homepages = homepages.split('\\n')\n",
    "                for homepage in homepages:\n",
    "                    homepages.remove('')\n",
    "                homepages = list(map(lambda x: x.strip(),homepages))\n",
    "                data_dict['홈페이지']=homepages\n",
    "            except KeyError:\n",
    "                data_dict['홈페이지']='홈페이지 없음'\n",
    "                \n",
    "            \n",
    "            print(data_dict)\n",
    "            final_list.append(data_dict)   \n",
    "\n",
    "#print(final_list)\n",
    "#actor_collection.insert_many(final_list)"
   ]
  },
  {
   "cell_type": "code",
   "execution_count": 27,
   "metadata": {},
   "outputs": [
    {
     "name": "stdout",
     "output_type": "stream",
     "text": [
      "['https://www.instagram.com/mermaidleejh/', 'https://twitter.com/mermaidjh']\n"
     ]
    }
   ],
   "source": [
    "data_dict={'배우이름': '이정현', '흥행지수': 28953, '출연영화': ['죽지않는 인간들의 밤', '반도', '명량'], '순위': 5, '직업': '배우', '생년월일': '1980-02-07', '성별': '여', '홈페이지': '\\nhttps://www.instagram.com/mermaidleejh/\\nhttps://twitter.com/mermaidjh\\n', '신장/체중': '158cm, 38kg', '학교': '중앙대학교 연극영화', '취미': '바비 인형 수집, 피아노 연주', '특기': '별관찰, 시나리오 쓰기', '소속사': '에이바 앤 엔터테인먼트'}\n",
    "homepages = data_dict['홈페이지']\n",
    "homepages = homepages.split('\\n')\n",
    "for homepage in homepages:\n",
    "    homepages.remove('')\n",
    "print(homepages)"
   ]
  },
  {
   "cell_type": "code",
   "execution_count": 32,
   "metadata": {},
   "outputs": [
    {
     "ename": "KeyError",
     "evalue": "'d'",
     "output_type": "error",
     "traceback": [
      "\u001b[1;31m---------------------------------------------------------------------------\u001b[0m",
      "\u001b[1;31mKeyError\u001b[0m                                  Traceback (most recent call last)",
      "\u001b[1;32m<ipython-input-32-acb0274dfb5c>\u001b[0m in \u001b[0;36m<module>\u001b[1;34m\u001b[0m\n\u001b[1;32m----> 1\u001b[1;33m \u001b[0mdata_dict\u001b[0m\u001b[1;33m[\u001b[0m\u001b[1;34m'd'\u001b[0m\u001b[1;33m]\u001b[0m\u001b[1;33m\u001b[0m\u001b[1;33m\u001b[0m\u001b[0m\n\u001b[0m",
      "\u001b[1;31mKeyError\u001b[0m: 'd'"
     ]
    }
   ],
   "source": [
    "data_dict['d']"
   ]
  },
  {
   "cell_type": "code",
   "execution_count": 26,
   "metadata": {
    "scrolled": true
   },
   "outputs": [
    {
     "name": "stdout",
     "output_type": "stream",
     "text": [
      "['https://www.facebook.com/shs831', ' https://www.instagram.com/shinhs831/']\n"
     ]
    }
   ],
   "source": [
    "a =data_dict['홈페이지']\n",
    "homepage = a.split('\\n')\n",
    "for h in map(lambda x: x.strip(),homepage):\n",
    "    if len(h)==0:\n",
    "        homepage.remove('')\n",
    "    \n",
    "print(homepage)"
   ]
  },
  {
   "cell_type": "code",
   "execution_count": 14,
   "metadata": {},
   "outputs": [
    {
     "data": {
      "text/plain": [
       "'https://www.instagram.com/shinhs831/'"
      ]
     },
     "execution_count": 14,
     "metadata": {},
     "output_type": "execute_result"
    }
   ],
   "source": [
    "' https://www.instagram.com/shinhs831/'.strip()"
   ]
  },
  {
   "cell_type": "code",
   "execution_count": 19,
   "metadata": {},
   "outputs": [
    {
     "name": "stdout",
     "output_type": "stream",
     "text": [
      "['https://www.facebook.com/shs831', 'https://www.instagram.com/shinhs831/']\n"
     ]
    }
   ],
   "source": [
    "a = ['https://www.facebook.com/shs831', ' https://www.instagram.com/shinhs831/']\n",
    "b = list(map(lambda x: x.strip(),a))\n",
    "print(b)"
   ]
  },
  {
   "cell_type": "code",
   "execution_count": 11,
   "metadata": {},
   "outputs": [
    {
     "name": "stdout",
     "output_type": "stream",
     "text": [
      "['https://www.facebook.com/shs831', ' https://www.instagram.com/shinhs831/', '']\n"
     ]
    }
   ],
   "source": [
    "home=a.split('\\n')\n",
    "for a i"
   ]
  },
  {
   "cell_type": "code",
   "execution_count": 150,
   "metadata": {},
   "outputs": [],
   "source": [
    "['d','a'].remove('a')"
   ]
  },
  {
   "cell_type": "code",
   "execution_count": 151,
   "metadata": {},
   "outputs": [
    {
     "name": "stdout",
     "output_type": "stream",
     "text": [
      "['d']\n"
     ]
    }
   ],
   "source": [
    "a=['d','a']\n",
    "a.remove('a')\n",
    "print(a)"
   ]
  },
  {
   "cell_type": "code",
   "execution_count": 108,
   "metadata": {
    "scrolled": true
   },
   "outputs": [
    {
     "name": "stdout",
     "output_type": "stream",
     "text": [
      "[<div class=\"name\"><a href=\"/db/person/info/?person_id=14268\">황정민(3편)</a></div>, <div class=\"name\"><a href=\"/db/person/info/?person_id=1075\">이정재(7편)</a></div>, <div class=\"name\"><a href=\"/db/person/info/?person_id=57657\">유아인(5편)</a></div>, <div class=\"name\"><a href=\"/db/person/info/?person_id=18040\">강동원(2편)</a></div>, <div class=\"name\"><a href=\"/db/person/info/?person_id=2760\">이정현(3편)</a></div>, <div class=\"name\"><a href=\"/db/person/info/?person_id=74826\">박정민(5편)</a></div>, <div class=\"name\"><a href=\"/db/person/info/?person_id=27826\">성동일(2편)</a></div>]\n"
     ]
    }
   ],
   "source": [
    "res = requests.post(url, data = {'section': 'actor','period_start': '2020-06','gender': 'all','page': 1})\n",
    "soup = BS(res.content,'lxml')\n",
    "actors = soup.select('li.people_li div.name')\n",
    "print(actors)"
   ]
  },
  {
   "cell_type": "code",
   "execution_count": 43,
   "metadata": {},
   "outputs": [],
   "source": [
    "import re\n",
    "p = re.compile('\\(\\w+\\)')"
   ]
  },
  {
   "cell_type": "code",
   "execution_count": 137,
   "metadata": {},
   "outputs": [
    {
     "data": {
      "text/plain": [
       "[{'배우이름': '황정민',\n",
       "  '흥행지수': 85103,\n",
       "  '출연영화': ['다만 악에서 구하소서', '신세계', '국제시장'],\n",
       "  '순위': 1,\n",
       "  '직업': '배우',\n",
       "  '생년월일': '1970-09-01',\n",
       "  '성별': '남',\n",
       "  '신장/체중': '180cm, 75kg',\n",
       "  '학교': '서울예술대학 연극과 졸업',\n",
       "  '특기': '농구, 악기연주',\n",
       "  '소속사': '예당엔터테인먼트'},\n",
       " {'배우이름': '이정재',\n",
       "  '흥행지수': 56753,\n",
       "  '출연영화': ['다만 악에서 구하소서', '신과 함께-죄와 벌', '태양은 없다', '시월애', '신과 함께-인과 연', '신세계'],\n",
       "  '순위': 2,\n",
       "  '직업': '배우',\n",
       "  '성별': '남',\n",
       "  '홈페이지': ' http://www.artistcompany.co.kr/portfolio-item/lee-jung-jae/ ',\n",
       "  '소속사': '아티스트컴퍼니'},\n",
       " {'배우이름': '유아인',\n",
       "  '흥행지수': 46376,\n",
       "  '출연영화': ['#살아있다', '소리도 없이', '버닝', '국가부도의 날', '사도'],\n",
       "  '순위': 3,\n",
       "  '다른 이름': '엄홍식',\n",
       "  '직업': '배우',\n",
       "  '생년월일': '1986-10-06',\n",
       "  '성별': '남',\n",
       "  '홈페이지': ' https://www.instagram.com/hongsick/ https://twitter.com/seeksik ',\n",
       "  '신장/체중': '178cm, 60kg',\n",
       "  '학교': '단국대학교 연극',\n",
       "  '취미': '피아노 연주, 인터넷 게임, 영화, 음악감상',\n",
       "  '특기': '스노우보드, 수영'},\n",
       " {'배우이름': '강동원',\n",
       "  '흥행지수': 31826,\n",
       "  '출연영화': ['반도', '1987'],\n",
       "  '순위': 4,\n",
       "  '직업': '배우',\n",
       "  '생년월일': '1981-01-18',\n",
       "  '성별': '남',\n",
       "  '홈페이지': ' http://www.gangdongwon.com ',\n",
       "  '신장/체중': '186cm, 68kg',\n",
       "  '학교': '한양대 - 상명대학교대학원 연극영화 (석사과정 재학)',\n",
       "  '취미': '음악감상, 웹서핑, 운동, 신발 모으기',\n",
       "  '특기': '축구'},\n",
       " {'배우이름': '이정현',\n",
       "  '흥행지수': 28961,\n",
       "  '출연영화': ['죽지않는 인간들의 밤', '반도', '명량'],\n",
       "  '순위': 5,\n",
       "  '직업': '배우',\n",
       "  '생년월일': '1980-02-07',\n",
       "  '성별': '여',\n",
       "  '홈페이지': ' https://www.instagram.com/mermaidleejh/ https://twitter.com/mermaidjh ',\n",
       "  '신장/체중': '158cm, 38kg',\n",
       "  '학교': '중앙대학교 연극영화',\n",
       "  '취미': '바비 인형 수집, 피아노 연주',\n",
       "  '특기': '별관찰, 시나리오 쓰기',\n",
       "  '소속사': '에이바 앤 엔터테인먼트'},\n",
       " {'배우이름': '박정민',\n",
       "  '흥행지수': 28373,\n",
       "  '출연영화': ['다만 악에서 구하소서', '동주', '시동', '파수꾼', '그것만이 내 세상'],\n",
       "  '순위': 6,\n",
       "  '직업': '배우',\n",
       "  '생년월일': '1987-02-25',\n",
       "  '성별': '남',\n",
       "  '신장/체중': '178cm, 63kg',\n",
       "  '학교': '한국예술종합학교 영상원 연극원 연기과'},\n",
       " {'배우이름': '성동일',\n",
       "  '흥행지수': 25091,\n",
       "  '출연영화': ['담보', '수상한 그녀'],\n",
       "  '순위': 7,\n",
       "  '직업': '배우',\n",
       "  '생년월일': '1967-04-27',\n",
       "  '성별': '남',\n",
       "  '신장/체중': '177cm, 78kg',\n",
       "  '학교': '유한대학 기계설계학'},\n",
       " {'배우이름': '이제훈',\n",
       "  '흥행지수': 23959,\n",
       "  '출연영화': ['도굴', '파수꾼', '박열', '건축학개론'],\n",
       "  '순위': 8,\n",
       "  '직업': '배우',\n",
       "  '생년월일': '1984-07-04',\n",
       "  '성별': '남',\n",
       "  '홈페이지': ' https://www.facebook.com/saram.leejehoon ',\n",
       "  '신장/체중': '176cm',\n",
       "  '학교': '한국예술종합학교 연극원 연기과',\n",
       "  '특기': '댄스, 노래, 무술',\n",
       "  '소속사': '㈜사람엔터테인먼트'},\n",
       " {'배우이름': '이레',\n",
       "  '흥행지수': 23904,\n",
       "  '출연영화': ['반도', '너의 이름은.', '소원', '증인'],\n",
       "  '순위': 9,\n",
       "  '직업': '배우',\n",
       "  '생년월일': '2006-03-12',\n",
       "  '성별': '여',\n",
       "  '홈페이지': ' https://www.facebook.com/leere.vv/ '},\n",
       " {'배우이름': '박신혜',\n",
       "  '흥행지수': 22091,\n",
       "  '출연영화': ['#살아있다'],\n",
       "  '순위': 10,\n",
       "  '직업': '배우',\n",
       "  '생년월일': '1990-02-18',\n",
       "  '성별': '여',\n",
       "  '홈페이지': ' https://twitter.com/ssinz https://www.instagram.com/ssinz7/ ',\n",
       "  '신장/체중': '165cm, 45kg',\n",
       "  '학교': '중앙대학교 연극영화학 (재학)',\n",
       "  '취미': '음악감상',\n",
       "  '특기': '댄스',\n",
       "  '소속사': '아바 엔터테인먼트'},\n",
       " {'배우이름': '조우진',\n",
       "  '흥행지수': 20929,\n",
       "  '출연영화': ['도굴', '서복', '국가부도의 날', '강철비', '1987'],\n",
       "  '순위': 11,\n",
       "  '다른 이름': '조신제',\n",
       "  '직업': '배우',\n",
       "  '생년월일': '1979-01-16',\n",
       "  '성별': '남'},\n",
       " {'배우이름': '권해효',\n",
       "  '흥행지수': 20005,\n",
       "  '출연영화': ['후쿠오카', '도망친 여자', '반도', '사이비', '배심원들', '국가부도의 날'],\n",
       "  '순위': 12,\n",
       "  '직업': '배우',\n",
       "  '생년월일': '1965-11-06',\n",
       "  '성별': '남',\n",
       "  '신장/체중': '170cm, 62kg',\n",
       "  '학교': '한양대학교 연극영화학 졸업'},\n",
       " {'배우이름': '하지원',\n",
       "  '흥행지수': 18818,\n",
       "  '출연영화': ['담보', '동감'],\n",
       "  '순위': 13,\n",
       "  '직업': '배우',\n",
       "  '생년월일': '1978-06-28',\n",
       "  '성별': '여',\n",
       "  '홈페이지': ' https://twitter.com/hajiwon1023 https://instagram.com/hajiwon1023 ',\n",
       "  '신장/체중': '168cm, 45kg',\n",
       "  '학교': '단국대학교 연극영화학 학사',\n",
       "  '취미': '만화책보기, 소품만들기, 청소하기',\n",
       "  '특기': '검도, 골프, 승마, 재즈댄스, 장구춤'},\n",
       " {'배우이름': '신혜선',\n",
       "  '흥행지수': 17711,\n",
       "  '출연영화': ['결백', '도굴'],\n",
       "  '순위': 14,\n",
       "  '직업': '배우',\n",
       "  '생년월일': '1989-00-00',\n",
       "  '성별': '여',\n",
       "  '홈페이지': ' https://www.facebook.com/shs831  https://www.instagram.com/shinhs831/ '}]"
      ]
     },
     "execution_count": 137,
     "metadata": {},
     "output_type": "execute_result"
    }
   ],
   "source": [
    "final_list"
   ]
  },
  {
   "cell_type": "code",
   "execution_count": 47,
   "metadata": {},
   "outputs": [
    {
     "data": {
      "text/plain": [
       "'성동일'"
      ]
     },
     "execution_count": 47,
     "metadata": {},
     "output_type": "execute_result"
    }
   ],
   "source": [
    "re.sub(p,'',actor.get_text())"
   ]
  },
  {
   "cell_type": "code",
   "execution_count": 82,
   "metadata": {},
   "outputs": [
    {
     "name": "stdout",
     "output_type": "stream",
     "text": [
      "<황정민>\n",
      "직업 : 배우\n",
      "생년월일 : 1970-09-01\n",
      "성별 : 남\n",
      "신장/체중 : 180cm, 75kg\n",
      "학교 : 서울예술대학 연극과 졸업\n",
      "특기 : 농구, 악기연주\n",
      "소속사 : 예당엔터테인먼트\n",
      "--------------------------------\n",
      "<이정재>\n",
      "직업 : 배우\n",
      "성별 : 남\n",
      "홈페이지 : \n",
      "http://www.artistcompany.co.kr/portfolio-item/lee-jung-jae/\n",
      "\n",
      "소속사 : 아티스트컴퍼니\n",
      "--------------------------------\n",
      "<유아인>\n",
      "다른 이름 : 엄홍식\n",
      "직업 : 배우\n",
      "생년월일 : 1986-10-06\n",
      "성별 : 남\n",
      "홈페이지 : \n",
      "https://www.instagram.com/hongsick/\n",
      "https://twitter.com/seeksik\n",
      "\n",
      "신장/체중 : 178cm, 60kg\n",
      "학교 : 단국대학교 연극\n",
      "취미 : 피아노 연주, 인터넷 게임, 영화, 음악감상\n",
      "특기 : 스노우보드, 수영\n",
      "--------------------------------\n",
      "<강동원>\n",
      "직업 : 배우\n",
      "생년월일 : 1981-01-18\n",
      "성별 : 남\n",
      "홈페이지 : \n",
      "http://www.gangdongwon.com\n",
      "\n",
      "신장/체중 : 186cm, 68kg\n",
      "학교 : 한양대 - 상명대학교대학원 연극영화 (석사과정 재학)\n",
      "취미 : 음악감상, 웹서핑, 운동, 신발 모으기\n",
      "특기 : 축구\n",
      "--------------------------------\n",
      "<이정현>\n",
      "직업 : 배우\n",
      "생년월일 : 1980-02-07\n",
      "성별 : 여\n",
      "홈페이지 : \n",
      "https://www.instagram.com/mermaidleejh/\n",
      "https://twitter.com/mermaidjh\n",
      "\n",
      "신장/체중 : 158cm, 38kg\n",
      "학교 : 중앙대학교 연극영화\n",
      "취미 : 바비 인형 수집, 피아노 연주\n",
      "특기 : 별관찰, 시나리오 쓰기\n",
      "소속사 : 에이바 앤 엔터테인먼트\n",
      "--------------------------------\n",
      "<박정민>\n",
      "직업 : 배우\n",
      "생년월일 : 1987-02-25\n",
      "성별 : 남\n",
      "신장/체중 : 178cm, 63kg\n",
      "학교 : 한국예술종합학교 영상원 연극원 연기과\n",
      "--------------------------------\n",
      "<성동일>\n",
      "직업 : 배우\n",
      "생년월일 : 1967-04-27\n",
      "성별 : 남\n",
      "신장/체중 : 177cm, 78kg\n",
      "학교 : 유한대학 기계설계학\n",
      "--------------------------------\n"
     ]
    }
   ],
   "source": [
    "for actor in actors:\n",
    "    actor_link ='http://www.cine21.com'+actor.a['href']\n",
    "    response_actor = requests.get(actor_link)\n",
    "    soup = BS(response_actor.content, 'lxml')\n",
    "    infos = soup.select('div.default_info_area li')\n",
    "    \n",
    "    print('<'+re.sub(p,'',actor.get_text())+'>')\n",
    "    \n",
    "    for info in infos:\n",
    "        detail = re.sub('<span.+n>','',str(info))\n",
    "        detail = re.sub('<.*?>','',detail)\n",
    "        print(info.span.get_text(),':',detail)\n",
    "        \n",
    "    print('--------------------------------')"
   ]
  },
  {
   "cell_type": "code",
   "execution_count": null,
   "metadata": {},
   "outputs": [],
   "source": []
  }
 ],
 "metadata": {
  "kernelspec": {
   "display_name": "Python 3",
   "language": "python",
   "name": "python3"
  },
  "language_info": {
   "codemirror_mode": {
    "name": "ipython",
    "version": 3
   },
   "file_extension": ".py",
   "mimetype": "text/x-python",
   "name": "python",
   "nbconvert_exporter": "python",
   "pygments_lexer": "ipython3",
   "version": "3.8.5"
  }
 },
 "nbformat": 4,
 "nbformat_minor": 4
}
